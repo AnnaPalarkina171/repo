{
  "nbformat": 4,
  "nbformat_minor": 0,
  "metadata": {
    "kernelspec": {
      "display_name": "Python 3",
      "language": "python",
      "name": "python3"
    },
    "language_info": {
      "codemirror_mode": {
        "name": "ipython",
        "version": 3
      },
      "file_extension": ".py",
      "mimetype": "text/x-python",
      "name": "python",
      "nbconvert_exporter": "python",
      "pygments_lexer": "ipython3",
      "version": "3.6.8"
    },
    "colab": {
      "name": "HW1_languageDetection.ipynb",
      "provenance": [],
      "collapsed_sections": []
    }
  },
  "cells": [
    {
      "cell_type": "markdown",
      "metadata": {
        "id": "yVoZnn1XSHyn",
        "colab_type": "text"
      },
      "source": [
        "# Определение языка и VK API"
      ]
    },
    {
      "cell_type": "markdown",
      "metadata": {
        "id": "NlySaejeSHyp",
        "colab_type": "text"
      },
      "source": [
        "В данном задании вам нужно будет:\n",
        "\n",
        "* используя API Вконтакте, скачать комментарии к первым ста постам из пяти сообществ\n",
        "* натренировать модель распознавания языков на статьях из Википедии.\n",
        "* распознать язык всех комментариев, где в тексте есть 10 и более символов, и построить статистику"
      ]
    },
    {
      "cell_type": "markdown",
      "metadata": {
        "id": "AkmcsFTYSHyq",
        "colab_type": "text"
      },
      "source": [
        "## VK API"
      ]
    },
    {
      "cell_type": "markdown",
      "metadata": {
        "id": "LJlAbY0FSHyr",
        "colab_type": "text"
      },
      "source": [
        "Для подключения к ВКонтакте мы будем использовать VK API. Здесь есть документация к этой библиотеке https://vk-api.readthedocs.io/en/latest/"
      ]
    },
    {
      "cell_type": "code",
      "metadata": {
        "id": "t9yCvS5XsIno",
        "colab_type": "code",
        "colab": {}
      },
      "source": [
        "!pip install vk_api\n",
        "!pip install wikipedia\n",
        "!pip install nltk\n",
        "!pip install sklearn\n",
        "!pip install matplotlib==3.0.3\n",
        "!pip install seaborn\n",
        "\n",
        "from collections import Counter \n",
        "from nltk.tokenize import word_tokenize, ToktokTokenizer\n",
        "from sklearn.model_selection import train_test_split\n",
        "from sklearn import metrics\n",
        "from sklearn.metrics import accuracy_score\n",
        "from sklearn import feature_extraction\n",
        "import nltk\n",
        "import wikipedia\n",
        "import vk_api\n",
        "import re\n",
        "from sklearn import pipeline\n",
        "from sklearn import naive_bayes\n",
        "import numpy as np\n",
        "\n",
        "%pylab inline\n",
        "import matplotlib.pyplot as plt\n",
        "import seaborn as sns\n",
        "\n",
        "nltk.download('punkt')"
      ],
      "execution_count": 0,
      "outputs": []
    },
    {
      "cell_type": "code",
      "metadata": {
        "scrolled": true,
        "id": "LxkY3lAjSHyv",
        "colab_type": "code",
        "colab": {}
      },
      "source": [
        "user = '+79241052393'\n",
        "password = 'rhcp9991' \n",
        "\n",
        "vk_session = vk_api.VkApi(login=user, password=password)\n",
        "vk_session.auth()\n",
        "\n",
        "vk = vk_session.get_api() "
      ],
      "execution_count": 0,
      "outputs": []
    },
    {
      "cell_type": "markdown",
      "metadata": {
        "id": "gbA4VApdSHyy",
        "colab_type": "text"
      },
      "source": [
        "Получить записи со страницы можно с помощью метода `wall.get`. Он принимает параметр `domain` — короткое имя пользователя или сообщества — и `count` — количество записей, которое вы хотите получить (максимум — 100). По Список методов для работы со стенами: https://vk.com/dev/wall"
      ]
    },
    {
      "cell_type": "markdown",
      "metadata": {
        "id": "Aqnd-0EKSHyz",
        "colab_type": "text"
      },
      "source": [
        "Например, вот так можно получить последние две записи с вот этой страницы https://vk.com/futureisnow. Выдача представляет собой словарь, в котором в поле `items` записан список словарей, содержащий информацию о каждой из записи. "
      ]
    },
    {
      "cell_type": "code",
      "metadata": {
        "scrolled": true,
        "id": "uFBiN0XXSHy0",
        "colab_type": "code",
        "colab": {}
      },
      "source": [
        "vk.wall.get(domain=\"futureisnow\", count=2)"
      ],
      "execution_count": 0,
      "outputs": []
    },
    {
      "cell_type": "markdown",
      "metadata": {
        "id": "fNbjuq03SHy2",
        "colab_type": "text"
      },
      "source": [
        "С помощью метода `groups.getById` можно получить информацию о сообществе, в том числе его id."
      ]
    },
    {
      "cell_type": "code",
      "metadata": {
        "id": "D8NzgyOzSHy3",
        "colab_type": "code",
        "colab": {}
      },
      "source": [
        "vk.groups.getById(group_ids=\"futureisnow\")"
      ],
      "execution_count": 0,
      "outputs": []
    },
    {
      "cell_type": "markdown",
      "metadata": {
        "id": "QCtPsOOXSHy6",
        "colab_type": "text"
      },
      "source": [
        "Скачайте информацию о последних ста записях в следующих пабликах: https://vk.com/futureisnow, https://vk.com/eternalclassic, https://vk.com/ukrlit_memes, https://vk.com/ukrainer_net, https://vk.com/amanzohel, https://vk.com/barg_kurumk_culture"
      ]
    },
    {
      "cell_type": "code",
      "metadata": {
        "id": "D3Mc-yR3SHy8",
        "colab_type": "code",
        "colab": {}
      },
      "source": [
        "# список domain'ов, чтобы вам не копировать их самими :)\n",
        "publics = [\"futureisnow\",\n",
        "           \"eternalclassic\",\n",
        "           \"ukrlit_memes\", \n",
        "           \"ukrainer_net\",\n",
        "           \"amanzohel\",\n",
        "           \"barg_kurumk_culture\"]"
      ],
      "execution_count": 0,
      "outputs": []
    },
    {
      "cell_type": "code",
      "metadata": {
        "id": "ua64Sd-RSHy_",
        "colab_type": "code",
        "colab": {
          "base_uri": "https://localhost:8080/",
          "height": 118
        },
        "outputId": "9dbc235e-9525-4276-bf0f-a59022e29f44"
      },
      "source": [
        "items = {} # ключи — это паблики\n",
        "\n",
        "# ваш код\n",
        "for domain in publics:\n",
        "      posts_inf = vk.wall.get(domain=domain, count=100)\n",
        "      posts = posts_inf['items']\n",
        "      items[domain] = list(posts)\n",
        "\n",
        "for k,v in items.items():\n",
        "  print(k,len(v))"
      ],
      "execution_count": 6,
      "outputs": [
        {
          "output_type": "stream",
          "text": [
            "futureisnow 100\n",
            "eternalclassic 100\n",
            "ukrlit_memes 100\n",
            "ukrainer_net 100\n",
            "amanzohel 100\n",
            "barg_kurumk_culture 100\n"
          ],
          "name": "stdout"
        }
      ]
    },
    {
      "cell_type": "markdown",
      "metadata": {
        "id": "80zmGLKbSHzD",
        "colab_type": "text"
      },
      "source": [
        "Найдите в документации (https://vk.com/dev/wall) метод для получения комментариев и получите первые сто комментариев каждого поста из выборки для каждого паблика."
      ]
    },
    {
      "cell_type": "code",
      "metadata": {
        "id": "OOJuKlhC8XrG",
        "colab_type": "code",
        "colab": {}
      },
      "source": [
        "corpora = {}\n",
        "\n",
        "for public in publics:\n",
        "  comments = []\n",
        "  posts_inf = vk.wall.get(domain=public, count=100)\n",
        "  posts = posts_inf['items']\n",
        "  for post in posts:\n",
        "    post_id = post['id']\n",
        "    owner_id = post['from_id']\n",
        "    comments_inf = vk.wall.getComments(domain=public,post_id=post_id,owner_id = owner_id, count=100)\n",
        "    for comment in comments_inf['items']:\n",
        "      try:\n",
        "        com_text = comment['text'] \n",
        "        comments.append(com_text)\n",
        "      except KeyError:                 \n",
        "         continue\n",
        "  corpora[public] = comments\n",
        "\n",
        "for k,v in corpora.items():\n",
        "  print(k,len(v),v)\n",
        "\n",
        "#чистить текст комментариев буду потом"
      ],
      "execution_count": 0,
      "outputs": []
    },
    {
      "cell_type": "markdown",
      "metadata": {
        "id": "jmwz0honSHzI",
        "colab_type": "text"
      },
      "source": [
        "**Задание со звездочкой:** вы могли заметить, что если обращаться к каждому посту отдельно, то все занимает довольно продолжительное время (около пяти минут). Найдите в документации vk_api способ сделать это быстрее."
      ]
    },
    {
      "cell_type": "code",
      "metadata": {
        "id": "IZ09_b6QSHzJ",
        "colab_type": "code",
        "colab": {}
      },
      "source": [
        "corpora = {}\n",
        "\n",
        "# ваш улучшенный код"
      ],
      "execution_count": 0,
      "outputs": []
    },
    {
      "cell_type": "markdown",
      "metadata": {
        "id": "SiAcLQiKSHzN",
        "colab_type": "text"
      },
      "source": [
        "## Тренировка моделей"
      ]
    },
    {
      "cell_type": "markdown",
      "metadata": {
        "id": "3Hn9tDIkSHzO",
        "colab_type": "text"
      },
      "source": [
        "В наших комментариях встречались русский, украинский, английский и бурятский."
      ]
    },
    {
      "cell_type": "code",
      "metadata": {
        "id": "paW-vXEpSHzP",
        "colab_type": "code",
        "colab": {}
      },
      "source": [
        "langs = {'ru', 'uk', 'en', 'bxr'}"
      ],
      "execution_count": 0,
      "outputs": []
    },
    {
      "cell_type": "markdown",
      "metadata": {
        "id": "4__q-AWYSHzR",
        "colab_type": "text"
      },
      "source": [
        "Скачайте документы, на которых вы будете обучать свои модели. Для наших целей хорошо иметь для каждого языка корпус размером около 50 статей."
      ]
    },
    {
      "cell_type": "code",
      "metadata": {
        "id": "RML-Vlf4SHzS",
        "colab_type": "code",
        "colab": {
          "base_uri": "https://localhost:8080/",
          "height": 373
        },
        "outputId": "2193cf50-a6e7-4b95-d0ef-53192ae5c905"
      },
      "source": [
        "wiki_texts = {}\n",
        "\n",
        "def get_texts_for_lang(lang, n):\n",
        "    wiki_content = []\n",
        "    wikipedia.set_lang(lang)\n",
        "    pages = wikipedia.random(n)\n",
        "    for page_name in pages:\n",
        "        try:\n",
        "            page = wikipedia.page(page_name)\n",
        "            wiki_content.append(\"%s\\n%s\" % (page.title, page.content.replace('=', '')))\n",
        "        except wikipedia.exceptions.WikipediaException:\n",
        "            print(\"Skip %s\" % page_name)\n",
        "    return wiki_content\n",
        "\n",
        "\n",
        "for lang in langs:\n",
        "    wiki_texts[lang] = get_texts_for_lang(lang, 50)\n",
        "    print(lang, len(wiki_texts[lang]))"
      ],
      "execution_count": 45,
      "outputs": [
        {
          "output_type": "stream",
          "text": [
            "/usr/local/lib/python3.6/dist-packages/wikipedia/wikipedia.py:389: UserWarning: No parser was explicitly specified, so I'm using the best available HTML parser for this system (\"lxml\"). This usually isn't a problem, but if you run this code on another system, or in a different virtual environment, it may use a different parser and behave differently.\n",
            "\n",
            "The code that caused this warning is on line 389 of the file /usr/local/lib/python3.6/dist-packages/wikipedia/wikipedia.py. To get rid of this warning, pass the additional argument 'features=\"lxml\"' to the BeautifulSoup constructor.\n",
            "\n",
            "  lis = BeautifulSoup(html).find_all('li')\n"
          ],
          "name": "stderr"
        },
        {
          "output_type": "stream",
          "text": [
            "Skip Go (Kreva album)\n",
            "Skip Venus Flytrap (rock band)\n",
            "Skip Maksim Pichugin\n",
            "Skip Constitution Square\n",
            "en 46\n",
            "bxr 50\n",
            "Skip Флекс\n",
            "Skip DJ (значения)\n",
            "Skip Большие Ясырки\n",
            "ru 47\n",
            "Skip Пшонка\n",
            "Skip Костевич\n",
            "Skip Ольшавка\n",
            "Skip Олні\n",
            "uk 46\n"
          ],
          "name": "stdout"
        }
      ]
    },
    {
      "cell_type": "code",
      "metadata": {
        "id": "w20I_YkPCPJC",
        "colab_type": "code",
        "colab": {}
      },
      "source": [
        "for k,v in wiki_texts.items():\n",
        "  print(k,len(v),v)"
      ],
      "execution_count": 0,
      "outputs": []
    },
    {
      "cell_type": "markdown",
      "metadata": {
        "id": "d6zPySueSHzU",
        "colab_type": "text"
      },
      "source": [
        "Сделайте определялку на частотах слов."
      ]
    },
    {
      "cell_type": "code",
      "metadata": {
        "id": "XbU1hmTkSHzV",
        "colab_type": "code",
        "colab": {}
      },
      "source": [
        "freq_lists = {}\n",
        "\n",
        "def collect_freqlist(wiki_pages, max_len=100):\n",
        "    freqlist = Counter()\n",
        "    for text in wiki_pages:\n",
        "        for word in nltk.word_tokenize(text.lower()):\n",
        "            if word.isalpha():\n",
        "                freqlist[word] += 1\n",
        "    return dict(freqlist.most_common(max_len))\n",
        "# проверка\n",
        "#collect_freqlist(wiki_texts['ru'])\n",
        "\n",
        "for lang in langs:\n",
        "    freq_lists[lang] = collect_freqlist(wiki_texts[lang])\n",
        "\n",
        "def simple_lang_detect(freq_lists, text):\n",
        "    counts = Counter()\n",
        "    for lang, freq_list in freq_lists.items():\n",
        "        freq_list = Counter(freq_list)\n",
        "        for word in nltk.word_tokenize(text):\n",
        "            counts[lang] += int(freq_list[word] > 0)\n",
        "    return counts.most_common()"
      ],
      "execution_count": 0,
      "outputs": []
    },
    {
      "cell_type": "markdown",
      "metadata": {
        "id": "VRaghVaMSHzX",
        "colab_type": "text"
      },
      "source": [
        "Сделайте определялку на символьных энграммах."
      ]
    },
    {
      "cell_type": "code",
      "metadata": {
        "id": "q5eVq0kESHzZ",
        "colab_type": "code",
        "colab": {
          "base_uri": "https://localhost:8080/",
          "height": 302
        },
        "outputId": "c8b214a8-8cce-401d-ec6b-7b794c43668f"
      },
      "source": [
        "vectorizer = feature_extraction.text.TfidfVectorizer(ngram_range=(1, 5), analyzer='char')\n",
        "vectorizer.fit(wiki_texts['ru'])\n",
        "#print(vectorizer.transform(wiki_texts['ru'])[0])  # первый документ в векторном представлении\n",
        "clf = pipeline.Pipeline([\n",
        "    ('vctr', feature_extraction.text.TfidfVectorizer(ngram_range=(1, 2), analyzer='char')),\n",
        "    ('clf', naive_bayes.MultinomialNB())\n",
        "])\n",
        "all_texts = []\n",
        "lang_indices = []\n",
        "for lang in wiki_texts:\n",
        "    all_texts.extend(wiki_texts[lang])\n",
        "    lang_indices.extend([lang]*len(wiki_texts[lang]))\n",
        "# Обучаем классификатор\n",
        "clf.fit(np.array(all_texts), np.array(lang_indices))"
      ],
      "execution_count": 88,
      "outputs": [
        {
          "output_type": "execute_result",
          "data": {
            "text/plain": [
              "Pipeline(memory=None,\n",
              "         steps=[('vctr',\n",
              "                 TfidfVectorizer(analyzer='char', binary=False,\n",
              "                                 decode_error='strict',\n",
              "                                 dtype=<class 'numpy.float64'>,\n",
              "                                 encoding='utf-8', input='content',\n",
              "                                 lowercase=True, max_df=1.0, max_features=None,\n",
              "                                 min_df=1, ngram_range=(1, 2), norm='l2',\n",
              "                                 preprocessor=None, smooth_idf=True,\n",
              "                                 stop_words=None, strip_accents=None,\n",
              "                                 sublinear_tf=False,\n",
              "                                 token_pattern='(?u)\\\\b\\\\w\\\\w+\\\\b',\n",
              "                                 tokenizer=None, use_idf=True,\n",
              "                                 vocabulary=None)),\n",
              "                ('clf',\n",
              "                 MultinomialNB(alpha=1.0, class_prior=None, fit_prior=True))],\n",
              "         verbose=False)"
            ]
          },
          "metadata": {
            "tags": []
          },
          "execution_count": 88
        }
      ]
    },
    {
      "cell_type": "code",
      "metadata": {
        "id": "0FPtBi69NCji",
        "colab_type": "code",
        "colab": {
          "base_uri": "https://localhost:8080/",
          "height": 50
        },
        "outputId": "22146687-d06d-43c4-8558-6db276242298"
      },
      "source": [
        "# Предсказываем результаты для тех же текстов\n",
        "#clf.predict(all_texts)\n",
        "\n",
        "# Скачиваем новые тексты из вики и предсказываем еще раз\n",
        "clf.predict(get_texts_for_lang('be',n=10))"
      ],
      "execution_count": 91,
      "outputs": [
        {
          "output_type": "execute_result",
          "data": {
            "text/plain": [
              "array(['uk', 'uk', 'ru', 'uk', 'uk', 'uk', 'uk', 'uk', 'uk', 'uk'],\n",
              "      dtype='<U3')"
            ]
          },
          "metadata": {
            "tags": []
          },
          "execution_count": 91
        }
      ]
    },
    {
      "cell_type": "code",
      "metadata": {
        "id": "pPz9MRo_N1X8",
        "colab_type": "code",
        "colab": {}
      },
      "source": [
        "# Поделим корпус на train и test\n",
        "from sklearn.model_selection import train_test_split\n",
        "from sklearn import metrics\n",
        "\n",
        "X_train, X_test, y_train, y_test = train_test_split(all_texts,\n",
        "                                                    lang_indices,\n",
        "                                                    test_size=0.2,\n",
        "                                                    random_state=0)\n",
        "clf.fit(X_train, y_train)\n",
        "y_predicted = clf.predict(X_test)\n",
        "cm = metrics.confusion_matrix(y_test, y_predicted)"
      ],
      "execution_count": 0,
      "outputs": []
    },
    {
      "cell_type": "code",
      "metadata": {
        "id": "-Etv8QiiN4in",
        "colab_type": "code",
        "colab": {
          "base_uri": "https://localhost:8080/",
          "height": 104
        },
        "outputId": "8fc9e339-75fe-44c7-f0a6-e1ea619ae248"
      },
      "source": [
        "print(y_predicted)\n",
        "print(y_test)"
      ],
      "execution_count": 93,
      "outputs": [
        {
          "output_type": "stream",
          "text": [
            "['ru' 'bxr' 'uk' 'bxr' 'ru' 'bxr' 'en' 'ru' 'uk' 'en' 'en' 'uk' 'en' 'uk'\n",
            " 'uk' 'ru' 'en' 'bxr' 'ru' 'ru' 'bxr' 'ru' 'ru' 'uk' 'uk' 'uk' 'bxr' 'bxr'\n",
            " 'ru' 'en' 'en' 'bxr' 'bxr' 'en' 'en' 'en' 'uk' 'ru']\n",
            "['ru', 'bxr', 'uk', 'bxr', 'ru', 'bxr', 'en', 'ru', 'uk', 'en', 'en', 'uk', 'uk', 'uk', 'uk', 'ru', 'en', 'bxr', 'ru', 'ru', 'bxr', 'ru', 'ru', 'uk', 'uk', 'uk', 'bxr', 'bxr', 'ru', 'en', 'en', 'bxr', 'bxr', 'en', 'en', 'en', 'uk', 'ru']\n"
          ],
          "name": "stdout"
        }
      ]
    },
    {
      "cell_type": "code",
      "metadata": {
        "id": "ANUYozChN-9J",
        "colab_type": "code",
        "colab": {
          "base_uri": "https://localhost:8080/",
          "height": 792
        },
        "outputId": "472777a0-ad7e-4e9a-ec78-056255dcf3b8"
      },
      "source": [
        "# Нарисуем confusion matrix и оценим качество\n",
        "def test_classify(y_test, y_predicted, label_names):\n",
        "    cm = metrics.confusion_matrix(y_test, y_predicted)\n",
        "    \n",
        "    plt.figure(figsize=(10, 10))\n",
        "    plt.ylim(10.5, -0.5)\n",
        "    sns.heatmap(cm, annot=True,  fmt='', xticklabels=label_names, yticklabels=label_names)\n",
        "    plt.title('Confusion Matrix')\n",
        "    \n",
        "    print(metrics.classification_report(y_test, y_predicted,\n",
        "                                        target_names=label_names))\n",
        "test_classify(y_test, y_predicted, clf.classes_)"
      ],
      "execution_count": 94,
      "outputs": [
        {
          "output_type": "stream",
          "text": [
            "              precision    recall  f1-score   support\n",
            "\n",
            "         bxr       1.00      1.00      1.00         9\n",
            "          en       0.90      1.00      0.95         9\n",
            "          ru       1.00      1.00      1.00        10\n",
            "          uk       1.00      0.90      0.95        10\n",
            "\n",
            "    accuracy                           0.97        38\n",
            "   macro avg       0.97      0.97      0.97        38\n",
            "weighted avg       0.98      0.97      0.97        38\n",
            "\n"
          ],
          "name": "stdout"
        },
        {
          "output_type": "display_data",
          "data": {
            "image/png": "[encoded data removed]",
            "text/plain": [
              "<Figure size 720x720 with 2 Axes>"
            ]
          },
          "metadata": {
            "tags": []
          }
        }
      ]
    },
    {
      "cell_type": "markdown",
      "metadata": {
        "id": "DyFOHqC0SHzd",
        "colab_type": "text"
      },
      "source": [
        "# Определение языка"
      ]
    },
    {
      "cell_type": "markdown",
      "metadata": {
        "id": "b7RDkSjbSHze",
        "colab_type": "text"
      },
      "source": [
        "Определите язык каждого комментария в каждом паблике с помощью определялки на частотах слов и покажите доли языков среди комментариев для каждого паблика."
      ]
    },
    {
      "cell_type": "code",
      "metadata": {
        "id": "CJAnDIeCSHzf",
        "colab_type": "code",
        "colab": {
          "base_uri": "https://localhost:8080/",
          "height": 118
        },
        "outputId": "25713d50-12b3-4e36-e7cd-61bbacc1e67c"
      },
      "source": [
        "lang_detects_freqs = {}\n",
        "\n",
        "for k,v in corpora.items():\n",
        "  langgs_comments = []\n",
        "  for comment in v:\n",
        "    if len(comment) > 10:\n",
        "      try:\n",
        "        lang_of_comment = simple_lang_detect(freq_lists,comment)[0][0]\n",
        "        langgs_comments.append(lang_of_comment)\n",
        "      except IndexError:\n",
        "        continue\n",
        "  lang_detects_freqs[k] = dict(Counter(langgs_comments))\n",
        "\n",
        "lang_detects_freqs"
      ],
      "execution_count": 62,
      "outputs": [
        {
          "output_type": "execute_result",
          "data": {
            "text/plain": [
              "{'amanzohel': {'bxr': 11, 'en': 201, 'ru': 24, 'uk': 2},\n",
              " 'barg_kurumk_culture': {'bxr': 20, 'en': 111, 'ru': 98, 'uk': 1},\n",
              " 'eternalclassic': {'en': 778},\n",
              " 'futureisnow': {'bxr': 3, 'en': 455, 'ru': 732, 'uk': 13},\n",
              " 'ukrainer_net': {'en': 75, 'ru': 48, 'uk': 76},\n",
              " 'ukrlit_memes': {'en': 107, 'ru': 63, 'uk': 76}}"
            ]
          },
          "metadata": {
            "tags": []
          },
          "execution_count": 62
        }
      ]
    },
    {
      "cell_type": "code",
      "metadata": {
        "id": "nsUX8OeKHvkt",
        "colab_type": "code",
        "colab": {
          "base_uri": "https://localhost:8080/",
          "height": 437
        },
        "outputId": "f772aab4-fd8d-45fd-c10d-cb3500c02831"
      },
      "source": [
        "for name_public,v in lang_detects_freqs.items():\n",
        "  coms = [freq for freq in v.values()]\n",
        "  print('Доли языков в паблике %s в процентах: ' % name_public)\n",
        "  for k,v in v.items():\n",
        "    perc = round((v*100)/sum(coms))\n",
        "    print(k, perc)"
      ],
      "execution_count": 82,
      "outputs": [
        {
          "output_type": "stream",
          "text": [
            "Доли языков в паблике futureisnow в процентах: \n",
            "ru 61.0\n",
            "en 38.0\n",
            "uk 1.0\n",
            "bxr 0.0\n",
            "Доли языков в паблике eternalclassic в процентах: \n",
            "en 100.0\n",
            "Доли языков в паблике ukrlit_memes в процентах: \n",
            "uk 31.0\n",
            "ru 26.0\n",
            "en 43.0\n",
            "Доли языков в паблике ukrainer_net в процентах: \n",
            "en 38.0\n",
            "ru 24.0\n",
            "uk 38.0\n",
            "Доли языков в паблике amanzohel в процентах: \n",
            "en 84.0\n",
            "ru 10.0\n",
            "bxr 5.0\n",
            "uk 1.0\n",
            "Доли языков в паблике barg_kurumk_culture в процентах: \n",
            "ru 43.0\n",
            "en 48.0\n",
            "bxr 9.0\n",
            "uk 0.0\n"
          ],
          "name": "stdout"
        }
      ]
    },
    {
      "cell_type": "markdown",
      "metadata": {
        "id": "omEokKN0SHzi",
        "colab_type": "text"
      },
      "source": [
        "Сделайте то же самое для определителя на символьных энграммах."
      ]
    },
    {
      "cell_type": "code",
      "metadata": {
        "id": "ElPdUMloSHzj",
        "colab_type": "code",
        "colab": {
          "base_uri": "https://localhost:8080/",
          "height": 118
        },
        "outputId": "9daeda17-98b1-406f-844a-8b8d876d405a"
      },
      "source": [
        "# Проверим на наших комментариях\n",
        "\n",
        "lang_detects_ngrams = {}\n",
        "\n",
        "for k,v in corpora.items():\n",
        "  texts = []\n",
        "  for comment in v:\n",
        "    if len(comment) > 10:\n",
        "      texts.append(comment)\n",
        "  y_predicted_small = clf.predict(texts)\n",
        "  lang_detects_ngrams[k] = dict(Counter(y_predicted_small))\n",
        "  \n",
        "lang_detects_ngrams"
      ],
      "execution_count": 120,
      "outputs": [
        {
          "output_type": "execute_result",
          "data": {
            "text/plain": [
              "{'amanzohel': {'bxr': 201, 'ru': 37},\n",
              " 'barg_kurumk_culture': {'bxr': 96, 'en': 1, 'ru': 132, 'uk': 1},\n",
              " 'eternalclassic': {'bxr': 3, 'en': 777},\n",
              " 'futureisnow': {'bxr': 36, 'en': 49, 'ru': 1115, 'uk': 3},\n",
              " 'ukrainer_net': {'bxr': 11, 'en': 4, 'ru': 66, 'uk': 118},\n",
              " 'ukrlit_memes': {'bxr': 8, 'en': 6, 'ru': 110, 'uk': 122}}"
            ]
          },
          "metadata": {
            "tags": []
          },
          "execution_count": 120
        }
      ]
    },
    {
      "cell_type": "code",
      "metadata": {
        "id": "kvuEoyakXq2L",
        "colab_type": "code",
        "colab": {
          "base_uri": "https://localhost:8080/",
          "height": 454
        },
        "outputId": "7ef2d0d8-9473-4094-e5ef-9fe01ce4fb4f"
      },
      "source": [
        "for name_public,v in lang_detects_ngrams.items():\n",
        "  coms = [freq for freq in v.values()]\n",
        "  print('Доли языков в паблике %s в процентах: ' % name_public)\n",
        "  for k,v in v.items():\n",
        "    perc = round((v*100)/sum(coms))\n",
        "    print(k, perc)"
      ],
      "execution_count": 121,
      "outputs": [
        {
          "output_type": "stream",
          "text": [
            "Доли языков в паблике futureisnow в процентах: \n",
            "ru 93.0\n",
            "bxr 3.0\n",
            "uk 0.0\n",
            "en 4.0\n",
            "Доли языков в паблике eternalclassic в процентах: \n",
            "en 100.0\n",
            "bxr 0.0\n",
            "Доли языков в паблике ukrlit_memes в процентах: \n",
            "uk 50.0\n",
            "ru 45.0\n",
            "bxr 3.0\n",
            "en 2.0\n",
            "Доли языков в паблике ukrainer_net в процентах: \n",
            "uk 59.0\n",
            "en 2.0\n",
            "ru 33.0\n",
            "bxr 6.0\n",
            "Доли языков в паблике amanzohel в процентах: \n",
            "bxr 84.0\n",
            "ru 16.0\n",
            "Доли языков в паблике barg_kurumk_culture в процентах: \n",
            "ru 57.0\n",
            "bxr 42.0\n",
            "en 0.0\n",
            "uk 0.0\n"
          ],
          "name": "stdout"
        }
      ]
    },
    {
      "cell_type": "markdown",
      "metadata": {
        "id": "T7KQlmuuSHzn",
        "colab_type": "text"
      },
      "source": [
        "Обсудите работу каждого из классификаторов, обсудите ошибки, объясните разницу в результатах."
      ]
    },
    {
      "cell_type": "markdown",
      "metadata": {
        "id": "fetNXW6xSHzo",
        "colab_type": "text"
      },
      "source": [
        "**Что хорошо:**\n",
        "ближе к концу работы было уже понятно, какие языки преобладали в каких пабликах. Радует, что итог в обоих классификаторов приближен к реальности. \n",
        "\n",
        "**Что плохо:** очевидно, что нужно лучше чистить комментарии (странно, что частотный классификатор вообще работает). Например, хорошо бы убрать стоп слова. В частотной определялке часто попадались моменты, когда частотность сразу нескольких языков совпадала. \n",
        "   \n",
        "\n",
        "\n"
      ]
    }
  ]
}